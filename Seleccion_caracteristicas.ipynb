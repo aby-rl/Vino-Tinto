{
 "cells": [
  {
   "cell_type": "markdown",
   "id": "04752d4c-793b-4941-8a76-fdea7774bfae",
   "metadata": {},
   "source": [
    "##**A1.4 Selección de características**"
   ]
  },
  {
   "cell_type": "markdown",
   "id": "09d73c5f-12d7-40bb-8ccd-928c4909ff65",
   "metadata": {},
   "source": [
    "***"
   ]
  },
  {
   "cell_type": "markdown",
   "id": "45733295-87de-45dc-8bb6-b7b85f5b2d3c",
   "metadata": {},
   "source": [
    "**1.** Se importa la libreria pandas, se carga el archivo \"A1.4 Vino Tinto.csv\". Posterior a esto se imprimen las dimensiones del data frame, así como las primeras 5 filas del archivo.  "
   ]
  },
  {
   "cell_type": "code",
   "execution_count": 4,
   "id": "70e539a4-f5c3-4c68-9a1f-6faf4794c479",
   "metadata": {},
   "outputs": [
    {
     "name": "stdout",
     "output_type": "stream",
     "text": [
      "Dimensiones del data frame: (1599, 12)\n"
     ]
    },
    {
     "data": {
      "text/html": [
       "<div>\n",
       "<style scoped>\n",
       "    .dataframe tbody tr th:only-of-type {\n",
       "        vertical-align: middle;\n",
       "    }\n",
       "\n",
       "    .dataframe tbody tr th {\n",
       "        vertical-align: top;\n",
       "    }\n",
       "\n",
       "    .dataframe thead th {\n",
       "        text-align: right;\n",
       "    }\n",
       "</style>\n",
       "<table border=\"1\" class=\"dataframe\">\n",
       "  <thead>\n",
       "    <tr style=\"text-align: right;\">\n",
       "      <th></th>\n",
       "      <th>acidezFija</th>\n",
       "      <th>acidezVolatil</th>\n",
       "      <th>acidoCitrico</th>\n",
       "      <th>azucarResidual</th>\n",
       "      <th>cloruros</th>\n",
       "      <th>dioxidoAzufreLibre</th>\n",
       "      <th>dioxidoAzufreTotal</th>\n",
       "      <th>densidad</th>\n",
       "      <th>pH</th>\n",
       "      <th>sulfatos</th>\n",
       "      <th>alcohol</th>\n",
       "      <th>calidad</th>\n",
       "    </tr>\n",
       "  </thead>\n",
       "  <tbody>\n",
       "    <tr>\n",
       "      <th>0</th>\n",
       "      <td>7.4</td>\n",
       "      <td>0.70</td>\n",
       "      <td>0.00</td>\n",
       "      <td>1.9</td>\n",
       "      <td>0.076</td>\n",
       "      <td>11.0</td>\n",
       "      <td>34.0</td>\n",
       "      <td>0.9978</td>\n",
       "      <td>3.51</td>\n",
       "      <td>0.56</td>\n",
       "      <td>9.4</td>\n",
       "      <td>5</td>\n",
       "    </tr>\n",
       "    <tr>\n",
       "      <th>1</th>\n",
       "      <td>7.8</td>\n",
       "      <td>0.88</td>\n",
       "      <td>0.00</td>\n",
       "      <td>2.6</td>\n",
       "      <td>0.098</td>\n",
       "      <td>25.0</td>\n",
       "      <td>67.0</td>\n",
       "      <td>0.9968</td>\n",
       "      <td>3.20</td>\n",
       "      <td>0.68</td>\n",
       "      <td>9.8</td>\n",
       "      <td>5</td>\n",
       "    </tr>\n",
       "    <tr>\n",
       "      <th>2</th>\n",
       "      <td>7.8</td>\n",
       "      <td>0.76</td>\n",
       "      <td>0.04</td>\n",
       "      <td>2.3</td>\n",
       "      <td>0.092</td>\n",
       "      <td>15.0</td>\n",
       "      <td>54.0</td>\n",
       "      <td>0.9970</td>\n",
       "      <td>3.26</td>\n",
       "      <td>0.65</td>\n",
       "      <td>9.8</td>\n",
       "      <td>5</td>\n",
       "    </tr>\n",
       "    <tr>\n",
       "      <th>3</th>\n",
       "      <td>11.2</td>\n",
       "      <td>0.28</td>\n",
       "      <td>0.56</td>\n",
       "      <td>1.9</td>\n",
       "      <td>0.075</td>\n",
       "      <td>17.0</td>\n",
       "      <td>60.0</td>\n",
       "      <td>0.9980</td>\n",
       "      <td>3.16</td>\n",
       "      <td>0.58</td>\n",
       "      <td>9.8</td>\n",
       "      <td>6</td>\n",
       "    </tr>\n",
       "    <tr>\n",
       "      <th>4</th>\n",
       "      <td>7.4</td>\n",
       "      <td>0.70</td>\n",
       "      <td>0.00</td>\n",
       "      <td>1.9</td>\n",
       "      <td>0.076</td>\n",
       "      <td>11.0</td>\n",
       "      <td>34.0</td>\n",
       "      <td>0.9978</td>\n",
       "      <td>3.51</td>\n",
       "      <td>0.56</td>\n",
       "      <td>9.4</td>\n",
       "      <td>5</td>\n",
       "    </tr>\n",
       "  </tbody>\n",
       "</table>\n",
       "</div>"
      ],
      "text/plain": [
       "   acidezFija  acidezVolatil  acidoCitrico  azucarResidual  cloruros  \\\n",
       "0         7.4           0.70          0.00             1.9     0.076   \n",
       "1         7.8           0.88          0.00             2.6     0.098   \n",
       "2         7.8           0.76          0.04             2.3     0.092   \n",
       "3        11.2           0.28          0.56             1.9     0.075   \n",
       "4         7.4           0.70          0.00             1.9     0.076   \n",
       "\n",
       "   dioxidoAzufreLibre  dioxidoAzufreTotal  densidad    pH  sulfatos  alcohol  \\\n",
       "0                11.0                34.0    0.9978  3.51      0.56      9.4   \n",
       "1                25.0                67.0    0.9968  3.20      0.68      9.8   \n",
       "2                15.0                54.0    0.9970  3.26      0.65      9.8   \n",
       "3                17.0                60.0    0.9980  3.16      0.58      9.8   \n",
       "4                11.0                34.0    0.9978  3.51      0.56      9.4   \n",
       "\n",
       "   calidad  \n",
       "0        5  \n",
       "1        5  \n",
       "2        5  \n",
       "3        6  \n",
       "4        5  "
      ]
     },
     "execution_count": 4,
     "metadata": {},
     "output_type": "execute_result"
    }
   ],
   "source": [
    "import pandas as pd\n",
    "data=pd.read_csv('A1.4 Vino Tinto.csv')\n",
    "print(\"Dimensiones del data frame:\",data.shape)\n",
    "data.head(5)"
   ]
  },
  {
   "cell_type": "markdown",
   "id": "c98fcbab-a85c-4c8d-9791-62a27a2b2012",
   "metadata": {},
   "source": [
    "***"
   ]
  },
  {
   "cell_type": "markdown",
   "id": "78bedf4a-1e39-492c-a7f2-7044700cfa3c",
   "metadata": {},
   "source": [
    "**2.** Se separa el data frame en datos de entrenamiento y de prueba para entrenar el modelo. En este caso se utiliza una proporción 80/20, siendo 80% de entrenamiento y 20% de prueba. Esta partición se hace de manera aleatoria y el final se confirma que ambas parten sumen el 100% de los datos."
   ]
  },
  {
   "cell_type": "code",
   "execution_count": 7,
   "id": "4f591c2f-4420-4574-9a40-673b71894a51",
   "metadata": {},
   "outputs": [
    {
     "name": "stdout",
     "output_type": "stream",
     "text": [
      "Observaciones datos de entrenamiento: (1279, 12)\n",
      "Observaciones datos de prueba: (320, 12)\n",
      "Cantidad de observaciones totales: 1599\n"
     ]
    }
   ],
   "source": [
    "from sklearn.model_selection import train_test_split\n",
    "train, test = train_test_split(data, train_size = 0.8, random_state=42)\n",
    "total=train.shape[0]+test.shape[0]\n",
    "\n",
    "print(\"Observaciones datos de entrenamiento:\",train.shape)\n",
    "print(\"Observaciones datos de prueba:\",test.shape)\n",
    "print(\"Cantidad de observaciones totales:\",total)"
   ]
  },
  {
   "cell_type": "markdown",
   "id": "2a19d538-6043-4f62-8300-e13fb35663aa",
   "metadata": {},
   "source": [
    "***"
   ]
  },
  {
   "cell_type": "markdown",
   "id": "ab9f0147-d352-42ed-bfae-4c2791bd3882",
   "metadata": {},
   "source": [
    "**3.** Se importan las funciones *train_test_split*, *LinearRegression* y *SequentialFeatureSelector* cada una de sus respectivas librerías. \n",
    "\n",
    "Posterior a esto se implementa la metodología de selección de características hacia adelante. Para esto se separan las características y la variable objetivo. Luego, se define el modelo de regresión e implementa la selección hacia adelante con la ayuda de la función *SequentialFeatureSelector*.\n",
    "\n",
    "Se seleccionan las características por este método y se imprimen tanto los índices como los nombres de estas."
   ]
  },
  {
   "cell_type": "code",
   "execution_count": 10,
   "id": "f9b3272a-a0a0-4180-8379-b63a299bb828",
   "metadata": {},
   "outputs": [
    {
     "name": "stdout",
     "output_type": "stream",
     "text": [
      "Índices de las características seleccionadas: (1, 4, 5, 6, 8, 9, 10)\n",
      "Nombres de las características seleccionadas: ['acidezVolatil', 'cloruros', 'dioxidoAzufreLibre', 'dioxidoAzufreTotal', 'pH', 'sulfatos', 'alcohol']\n"
     ]
    }
   ],
   "source": [
    "from sklearn.model_selection import train_test_split\n",
    "from sklearn.linear_model import LinearRegression\n",
    "from mlxtend.feature_selection import SequentialFeatureSelector as SFS\n",
    "\n",
    "x_train=train.iloc[:,:-1]\n",
    "y_train=train.iloc[:,-1]\n",
    "modelo=LinearRegression()\n",
    "\n",
    "seleccion_adelante=SFS(modelo,k_features=(2,8),forward=True,scoring='r2',cv=10)\n",
    "seleccion_adelante.fit(x_train,y_train)\n",
    "\n",
    "caracteristicas_seleccionadas= list(x_train.columns[list(seleccion_adelante.k_feature_idx_)])\n",
    "\n",
    "print(\"Índices de las características seleccionadas:\", seleccion_adelante.k_feature_idx_)\n",
    "print(\"Nombres de las características seleccionadas:\", caracteristicas_seleccionadas)"
   ]
  },
  {
   "cell_type": "markdown",
   "id": "b3b292cd-8c97-42c1-8e21-5703d92b34e5",
   "metadata": {},
   "source": [
    "***"
   ]
  },
  {
   "cell_type": "markdown",
   "id": "60d1facb-e848-417f-8bbc-6dce540dd80a",
   "metadata": {},
   "source": [
    "**4.** Se entrena el modelo a partir de las características seleccionadas por la selección hacia adelante junto con la ayuda de la función *fit*. Después se realiza la predicción del modelo con la función *predict* y los datos de prueba. En ambos casos se utiliza solamente los datos de las variables de interés.\n",
    "\n",
    "Para medir la capacidad de predicción del modelo mediante esta selección se utiliza la métrica de la R2 con la función *r2_score*."
   ]
  },
  {
   "cell_type": "code",
   "execution_count": 13,
   "id": "bedab993-8926-4f99-863d-1e78b0832f80",
   "metadata": {},
   "outputs": [
    {
     "name": "stdout",
     "output_type": "stream",
     "text": [
      "R2 prueba (selección adelante): 0.40126288354402984\n"
     ]
    }
   ],
   "source": [
    "from sklearn.metrics import r2_score\n",
    "\n",
    "x_train_seleccion=x_train[caracteristicas_seleccionadas]\n",
    "modelo.fit(x_train_seleccion,y_train)\n",
    "\n",
    "x_test_seleccion=test[caracteristicas_seleccionadas]\n",
    "y_test=test.iloc[:,-1]\n",
    "y_prediccion=modelo.predict(x_test_seleccion)\n",
    "\n",
    "R2=r2_score(y_test,y_prediccion)\n",
    "print(\"R2 prueba (selección adelante):\",R2)"
   ]
  },
  {
   "cell_type": "markdown",
   "id": "05486771-dba8-45ea-ac4e-bbb295c712d0",
   "metadata": {},
   "source": [
    "***"
   ]
  },
  {
   "cell_type": "markdown",
   "id": "3ad3f63f-afea-4c9f-83a7-e973c514655f",
   "metadata": {},
   "source": [
    "**5.** Una vez realizada la selección hacia adelante, ahora se implementa la selección hacia atrás a partir de las variables seleccionadas por el método de selección hacia adelante.\n",
    "\n",
    "Se realizan pasos muy similares a la parte 3, sin embargo en este caso la mayor diferencia es que ahora *forward=False*, esto para que vaya de atrás hacia adelante. Así mismo, se específica una menor cantidad de variables posibles, en este caso de 2-5.\n",
    "\n",
    "Por último, se imprimen los índices y los nombres de las características seleccionadas por este método."
   ]
  },
  {
   "cell_type": "code",
   "execution_count": 16,
   "id": "0aa5513e-e58c-4743-ad82-1e4b47b23bd3",
   "metadata": {},
   "outputs": [
    {
     "name": "stdout",
     "output_type": "stream",
     "text": [
      "Índices de las características seleccionadas: (0, 1, 3, 5, 6)\n",
      "Nombres de las características seleccionadas: ['acidezVolatil', 'cloruros', 'dioxidoAzufreTotal', 'sulfatos', 'alcohol']\n"
     ]
    }
   ],
   "source": [
    "seleccion_atras=SFS(modelo,k_features=(2,5),forward=False,scoring='r2',cv=10)\n",
    "seleccion_atras.fit(x_train_seleccion,y_train)\n",
    "\n",
    "caracteristicas_seleccionadas_atras=list(x_train_seleccion.columns[list(seleccion_atras.k_feature_idx_)])\n",
    "\n",
    "print(\"Índices de las características seleccionadas:\", seleccion_atras.k_feature_idx_)\n",
    "print(\"Nombres de las características seleccionadas:\", caracteristicas_seleccionadas_atras)"
   ]
  },
  {
   "cell_type": "markdown",
   "id": "7987151a-17d3-45cf-ab6f-73add3fba469",
   "metadata": {},
   "source": [
    "***"
   ]
  },
  {
   "cell_type": "markdown",
   "id": "560666dc-263e-4875-bf11-3a328fe5cabd",
   "metadata": {},
   "source": [
    "**6.** Teniendo la selección de características por el método hacia atrás se repiten los pasos similar a la parte 4. En esta parte se asegura que el modelo contenga solamente las variables seleccionadas en el parte 5. \n",
    "\n",
    "Finalmente, luego de realizar el ajuste y la predicción, se calcula la R2 del modelo por el método hacia atrás. Al tener ambos valores de la R2 se comparan para evaluar cual de los dos modelos sería el mejor."
   ]
  },
  {
   "cell_type": "code",
   "execution_count": 19,
   "id": "79f62c65-c4b8-4f8a-9c1b-6dccd5ce915e",
   "metadata": {},
   "outputs": [
    {
     "name": "stdout",
     "output_type": "stream",
     "text": [
      "R2 prueba (selección atrás): 0.3958889666765406\n",
      "El modelo con selección adelante tiene mejor desempeño con un R2 de 0.40126288354402984 comparado con 0.3958889666765406 del modelo con selección atrás.\n"
     ]
    }
   ],
   "source": [
    "x_train_seleccion_atras=x_train[caracteristicas_seleccionadas_atras]\n",
    "modelo.fit(x_train_seleccion_atras,y_train)\n",
    "\n",
    "x_test_seleccion_atras=test[caracteristicas_seleccionadas_atras]\n",
    "y_prediccion_atras=modelo.predict(x_test_seleccion_atras)\n",
    "\n",
    "R2_atras=r2_score(y_test,y_prediccion_atras)\n",
    "print(\"R2 prueba (selección atrás):\",R2_atras)\n",
    "\n",
    "if R2 > R2_atras:\n",
    "    print(\"El modelo con selección adelante tiene mejor desempeño con un R2 de\", R2, \"comparado con\", R2_atras, \"del modelo con selección atrás.\")\n",
    "elif R2_atras > R2:\n",
    "    print(\"El modelo con selección atrás tiene mejor desempeño con un R2 de\", R2_atras, \"comparado con\", R2, \"del modelo con selección adelante.\")\n",
    "else:\n",
    "    print(\"Ambos modelos tienen el mismo desempeño con un R2 de\", R2)\n"
   ]
  },
  {
   "cell_type": "markdown",
   "id": "acd7a5d5-6ffb-41fe-9437-1a9678078184",
   "metadata": {},
   "source": [
    "***"
   ]
  },
  {
   "cell_type": "markdown",
   "id": "d57cf562-bbef-46b4-bf1d-eef16e5837fd",
   "metadata": {},
   "source": [
    "**Conclusión:** Con base a la métrica calculada de la R2, la cual mide qué tan bien el modelo puede explicar la variabilidad de la variable dependiente (𝑦), el modelo con el método de selección hacia adelante se podría decir que es mejor que el de selección hacia atrás puesto que un valor más cerca a 1 indica que el modelo explica una gran parte de la variabilidad de los datos. Es decir, con el primer modelo podemos decir que las predicciones se ajustan mejor a los valores reales.\n",
    "\n",
    "Sin embargo, es importante mencionar que hay que tener en cuenta la parte del sobreajuste ya que un R2 muy alto en entrenamiento pero bajo en prueba indica que el modelo se ajustó mucho a los datos de entrenamiento y no generaliza bien. Aunado a esto, no siempre un R2 mayor implica un mejor modelo si el número de variables aumenta demasiado. Un mayor R2 es deseable, pero debe ser analizado en conjunto con otras métricas."
   ]
  },
  {
   "cell_type": "markdown",
   "id": "32b4f80f-8518-4daf-9dd4-fee8ddfd7961",
   "metadata": {},
   "source": [
    "***"
   ]
  },
  {
   "cell_type": "markdown",
   "id": "3ced8376-e2d5-4bfe-84d8-a79aa4a5b41d",
   "metadata": {},
   "source": [
    "**Referencias bibliográficas**\n",
    " - Cortez, P., Cerdeira, A., Almeida, F., Matos, T., & Reis, J. (2009). Wine Quality [Dataset]. UCI Machine Learning Repository. https://doi.org/10.24432/C56S3T."
   ]
  }
 ],
 "metadata": {
  "kernelspec": {
   "display_name": "Python [conda env:base] *",
   "language": "python",
   "name": "conda-base-py"
  },
  "language_info": {
   "codemirror_mode": {
    "name": "ipython",
    "version": 3
   },
   "file_extension": ".py",
   "mimetype": "text/x-python",
   "name": "python",
   "nbconvert_exporter": "python",
   "pygments_lexer": "ipython3",
   "version": "3.12.7"
  }
 },
 "nbformat": 4,
 "nbformat_minor": 5
}
